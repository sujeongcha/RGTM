{
 "cells": [
  {
   "cell_type": "code",
   "execution_count": 5,
   "metadata": {},
   "outputs": [
    {
     "name": "stderr",
     "output_type": "stream",
     "text": [
      "C:\\Users\\sujeong\\Anaconda3\\lib\\site-packages\\ipykernel_launcher.py:6: SettingWithCopyWarning: \n",
      "A value is trying to be set on a copy of a slice from a DataFrame.\n",
      "Try using .loc[row_indexer,col_indexer] = value instead\n",
      "\n",
      "See the caveats in the documentation: http://pandas.pydata.org/pandas-docs/stable/indexing.html#indexing-view-versus-copy\n",
      "  \n"
     ]
    },
    {
     "data": {
      "text/html": [
       "<div>\n",
       "<style scoped>\n",
       "    .dataframe tbody tr th:only-of-type {\n",
       "        vertical-align: middle;\n",
       "    }\n",
       "\n",
       "    .dataframe tbody tr th {\n",
       "        vertical-align: top;\n",
       "    }\n",
       "\n",
       "    .dataframe thead th {\n",
       "        text-align: right;\n",
       "    }\n",
       "</style>\n",
       "<table border=\"1\" class=\"dataframe\">\n",
       "  <thead>\n",
       "    <tr style=\"text-align: right;\">\n",
       "      <th></th>\n",
       "      <th>Stop Name</th>\n",
       "      <th>GTFS Latitude</th>\n",
       "      <th>GTFS Longitude</th>\n",
       "      <th>GeoCode</th>\n",
       "    </tr>\n",
       "  </thead>\n",
       "  <tbody>\n",
       "    <tr>\n",
       "      <th>6</th>\n",
       "      <td>Lexington Av/59 St</td>\n",
       "      <td>40.762660</td>\n",
       "      <td>-73.967258</td>\n",
       "      <td>(-73.967258, 40.76266)</td>\n",
       "    </tr>\n",
       "    <tr>\n",
       "      <th>7</th>\n",
       "      <td>5 Av/59 St</td>\n",
       "      <td>40.764811</td>\n",
       "      <td>-73.973347</td>\n",
       "      <td>(-73.973347, 40.764811)</td>\n",
       "    </tr>\n",
       "    <tr>\n",
       "      <th>8</th>\n",
       "      <td>57 St - 7 Av</td>\n",
       "      <td>40.764664</td>\n",
       "      <td>-73.980658</td>\n",
       "      <td>(-73.98065799999999, 40.764664)</td>\n",
       "    </tr>\n",
       "    <tr>\n",
       "      <th>9</th>\n",
       "      <td>49 St</td>\n",
       "      <td>40.759901</td>\n",
       "      <td>-73.984139</td>\n",
       "      <td>(-73.984139, 40.759901)</td>\n",
       "    </tr>\n",
       "    <tr>\n",
       "      <th>10</th>\n",
       "      <td>Times Sq - 42 St</td>\n",
       "      <td>40.754672</td>\n",
       "      <td>-73.986754</td>\n",
       "      <td>(-73.986754, 40.754672)</td>\n",
       "    </tr>\n",
       "  </tbody>\n",
       "</table>\n",
       "</div>"
      ],
      "text/plain": [
       "             Stop Name  GTFS Latitude  GTFS Longitude  \\\n",
       "6   Lexington Av/59 St      40.762660      -73.967258   \n",
       "7           5 Av/59 St      40.764811      -73.973347   \n",
       "8         57 St - 7 Av      40.764664      -73.980658   \n",
       "9                49 St      40.759901      -73.984139   \n",
       "10    Times Sq - 42 St      40.754672      -73.986754   \n",
       "\n",
       "                            GeoCode  \n",
       "6            (-73.967258, 40.76266)  \n",
       "7           (-73.973347, 40.764811)  \n",
       "8   (-73.98065799999999, 40.764664)  \n",
       "9           (-73.984139, 40.759901)  \n",
       "10          (-73.986754, 40.754672)  "
      ]
     },
     "metadata": {},
     "output_type": "display_data"
    }
   ],
   "source": [
    "import pandas as pd\n",
    "\n",
    "df = pd.read_csv(\"Stations.csv\", header = 0)\n",
    "df = df[df['Borough'] == \"M\"]\n",
    "df_clean = df[['Stop Name', 'GTFS Latitude', 'GTFS Longitude']]\n",
    "df_clean['GeoCode'] = list(zip(df_clean['GTFS Longitude'], df_clean['GTFS Latitude']))\n",
    "display(df_clean.head())"
   ]
  },
  {
   "cell_type": "code",
   "execution_count": 8,
   "metadata": {},
   "outputs": [],
   "source": [
    "df_clean.to_csv(r'C:\\Users\\sujeong\\Documents\\2019 Fall NYU MSDS ■\\1001 Introduction to Data Science\\Project\\subway_cleanup.csv', index=False)"
   ]
  },
  {
   "cell_type": "code",
   "execution_count": null,
   "metadata": {},
   "outputs": [],
   "source": []
  }
 ],
 "metadata": {
  "kernelspec": {
   "display_name": "Python 3",
   "language": "python",
   "name": "python3"
  },
  "language_info": {
   "codemirror_mode": {
    "name": "ipython",
    "version": 3
   },
   "file_extension": ".py",
   "mimetype": "text/x-python",
   "name": "python",
   "nbconvert_exporter": "python",
   "pygments_lexer": "ipython3",
   "version": "3.7.3"
  }
 },
 "nbformat": 4,
 "nbformat_minor": 2
}
