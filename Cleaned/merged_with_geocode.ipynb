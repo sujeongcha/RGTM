{
 "cells": [
  {
   "cell_type": "code",
   "execution_count": 41,
   "metadata": {},
   "outputs": [
    {
     "data": {
      "text/plain": [
       "(67349, 22)"
      ]
     },
     "execution_count": 41,
     "metadata": {},
     "output_type": "execute_result"
    }
   ],
   "source": [
    "import pandas as pd\n",
    "pd.set_option('display.max_columns', 500)\n",
    "\n",
    "orig = pd.read_csv(\"merged_manhattan_cleanup_git.csv\", header = 0)\n",
    "geocode = pd.read_csv(\"merged_manhattan_geocodes.csv\", header = 0)\n",
    "orig.shape"
   ]
  },
  {
   "cell_type": "code",
   "execution_count": 42,
   "metadata": {},
   "outputs": [],
   "source": [
    "orig['StreetName'] = [x.strip() for x in orig['StreetName']]\n",
    "orig['Address'] = orig['StreetNum'] + \" \" + orig['StreetName']\n",
    "geocode['Address'] = [x.split(',')[0].strip() for x in geocode['Address']]"
   ]
  },
  {
   "cell_type": "code",
   "execution_count": 43,
   "metadata": {},
   "outputs": [
    {
     "data": {
      "text/plain": [
       "(64773, 23)"
      ]
     },
     "execution_count": 43,
     "metadata": {},
     "output_type": "execute_result"
    }
   ],
   "source": [
    "df = orig.merge(geocode, on = 'Address', how = 'inner')\n",
    "df = df.drop(['Address', 'Unnamed: 0', 'latitude', 'longitude'], axis=1)\n",
    "df.shape"
   ]
  },
  {
   "cell_type": "code",
   "execution_count": 44,
   "metadata": {},
   "outputs": [],
   "source": [
    "df.to_csv(r'C:\\Users\\sujeong\\Documents\\2019 Fall NYU MSDS ■\\1001 Introduction to Data Science\\Project\\merged_with_geocode.csv', index=False)"
   ]
  },
  {
   "cell_type": "code",
   "execution_count": null,
   "metadata": {},
   "outputs": [],
   "source": []
  }
 ],
 "metadata": {
  "kernelspec": {
   "display_name": "Python 3",
   "language": "python",
   "name": "python3"
  },
  "language_info": {
   "codemirror_mode": {
    "name": "ipython",
    "version": 3
   },
   "file_extension": ".py",
   "mimetype": "text/x-python",
   "name": "python",
   "nbconvert_exporter": "python",
   "pygments_lexer": "ipython3",
   "version": "3.7.3"
  }
 },
 "nbformat": 4,
 "nbformat_minor": 2
}
