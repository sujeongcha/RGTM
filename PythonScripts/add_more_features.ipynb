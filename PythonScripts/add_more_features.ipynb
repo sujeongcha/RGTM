{
 "cells": [
  {
   "cell_type": "code",
   "execution_count": 1,
   "metadata": {},
   "outputs": [],
   "source": [
    "import pandas as pd"
   ]
  },
  {
   "cell_type": "code",
   "execution_count": 4,
   "metadata": {},
   "outputs": [
    {
     "name": "stderr",
     "output_type": "stream",
     "text": [
      "C:\\Users\\yjpar\\Anaconda3\\lib\\site-packages\\IPython\\core\\interactiveshell.py:3057: DtypeWarning: Columns (15,16,20) have mixed types. Specify dtype option on import or set low_memory=False.\n",
      "  interactivity=interactivity, compiler=compiler, result=result)\n"
     ]
    }
   ],
   "source": [
    "repo_dir = \"\"\"C:\\\\Users\\\\yjpar\\\\Documents\\\\GitHub\\\\RGTM\\\\Cleaned\\\\\"\"\"\n",
    "df1 = pd.read_csv(repo_dir + \"merged_manhattan_cleanup.csv\")"
   ]
  },
  {
   "cell_type": "code",
   "execution_count": 6,
   "metadata": {},
   "outputs": [],
   "source": [
    "df1[\"StreetAdd\"] = df1.StreetNum + \" \" + df1.StreetName.apply(lambda x : x.strip())"
   ]
  },
  {
   "cell_type": "code",
   "execution_count": 10,
   "metadata": {},
   "outputs": [
    {
     "name": "stderr",
     "output_type": "stream",
     "text": [
      "C:\\Users\\yjpar\\Anaconda3\\lib\\site-packages\\pandas\\io\\clipboards.py:127: FutureWarning: The signature of `Series.to_csv` was aligned to that of `DataFrame.to_csv`, and argument 'header' will change its default value from False to True: please pass an explicit value to suppress this warning.\n",
      "  obj.to_csv(buf, sep=sep, encoding='utf-8', **kwargs)\n"
     ]
    }
   ],
   "source": [
    "df1.groupby([\"StreetAdd\"])[\"SalePrice\"].count().to_clipboard()"
   ]
  },
  {
   "cell_type": "code",
   "execution_count": 11,
   "metadata": {},
   "outputs": [
    {
     "data": {
      "text/plain": [
       "11585"
      ]
     },
     "execution_count": 11,
     "metadata": {},
     "output_type": "execute_result"
    }
   ],
   "source": [
    "len(df1.StreetAdd.unique())"
   ]
  },
  {
   "cell_type": "code",
   "execution_count": 12,
   "metadata": {},
   "outputs": [],
   "source": [
    "final = pd.read_csv(repo_dir+\"MODEL_salesdate.csv\")"
   ]
  },
  {
   "cell_type": "code",
   "execution_count": 15,
   "metadata": {},
   "outputs": [],
   "source": [
    "final[\"BOM_DATE\"] = pd.to_datetime(final.SaleDate)\n",
    "final.SaleDate = pd.to_datetime(final.SaleDate)"
   ]
  },
  {
   "cell_type": "code",
   "execution_count": 19,
   "metadata": {},
   "outputs": [],
   "source": [
    "final[\"BOM_DATE\"] = final.BOM_DATE.apply(lambda x : pd.datetime(x.year, x.month, 1))"
   ]
  },
  {
   "cell_type": "code",
   "execution_count": 24,
   "metadata": {},
   "outputs": [],
   "source": [
    "medianSale = pd.read_csv(repo_dir + \"MedianSalesDate.csv\")\n",
    "medianSale[\"BOM_DATE\"] = pd.to_datetime(medianSale.BomDate)"
   ]
  },
  {
   "cell_type": "code",
   "execution_count": 25,
   "metadata": {},
   "outputs": [],
   "source": [
    "medianSale =medianSale.drop(\"BomDate\", axis = 1)"
   ]
  },
  {
   "cell_type": "code",
   "execution_count": 27,
   "metadata": {},
   "outputs": [],
   "source": [
    "final1 = final.merge(medianSale, on=\"BOM_DATE\", how=\"left\")"
   ]
  },
  {
   "cell_type": "code",
   "execution_count": 28,
   "metadata": {},
   "outputs": [],
   "source": [
    "recordedSale = pd.read_csv(repo_dir + \"RecordedSales.csv\")\n",
    "recordedSale[\"BOM_DATE\"] = pd.to_datetime(recordedSale.BomDate)\n",
    "recordedSale=recordedSale.drop(\"BomDate\", axis=1)"
   ]
  },
  {
   "cell_type": "code",
   "execution_count": 29,
   "metadata": {},
   "outputs": [],
   "source": [
    "final2 = final1.merge(recordedSale, on=\"BOM_DATE\", how=\"left\")"
   ]
  },
  {
   "cell_type": "code",
   "execution_count": 30,
   "metadata": {},
   "outputs": [],
   "source": [
    "final2.to_csv(repo_dir + \"MODEL_salesdate_w_medSale_saleVolume.csv\")"
   ]
  },
  {
   "cell_type": "code",
   "execution_count": 31,
   "metadata": {},
   "outputs": [],
   "source": [
    "final3 = final2.copy(deep=True)"
   ]
  },
  {
   "cell_type": "code",
   "execution_count": 32,
   "metadata": {},
   "outputs": [],
   "source": [
    "final3 = final3.drop([\"BOM_DATE\", \"SaleDate\"], axis=1)"
   ]
  },
  {
   "cell_type": "code",
   "execution_count": 33,
   "metadata": {},
   "outputs": [],
   "source": [
    "final3.to_csv(repo_dir + \"MODEL_medPrice_saleVol.csv\")"
   ]
  },
  {
   "cell_type": "code",
   "execution_count": null,
   "metadata": {},
   "outputs": [],
   "source": []
  }
 ],
 "metadata": {
  "kernelspec": {
   "display_name": "Python 3",
   "language": "python",
   "name": "python3"
  },
  "language_info": {
   "codemirror_mode": {
    "name": "ipython",
    "version": 3
   },
   "file_extension": ".py",
   "mimetype": "text/x-python",
   "name": "python",
   "nbconvert_exporter": "python",
   "pygments_lexer": "ipython3",
   "version": "3.7.3"
  }
 },
 "nbformat": 4,
 "nbformat_minor": 2
}
