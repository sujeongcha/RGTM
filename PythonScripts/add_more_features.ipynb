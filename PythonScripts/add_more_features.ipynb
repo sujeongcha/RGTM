{
 "cells": [
  {
   "cell_type": "code",
   "execution_count": 1,
   "metadata": {},
   "outputs": [],
   "source": [
    "import pandas as pd"
   ]
  },
  {
   "cell_type": "code",
   "execution_count": 4,
   "metadata": {},
   "outputs": [
    {
     "name": "stderr",
     "output_type": "stream",
     "text": [
      "C:\\Users\\yjpar\\Anaconda3\\lib\\site-packages\\IPython\\core\\interactiveshell.py:3057: DtypeWarning: Columns (15,16,20) have mixed types. Specify dtype option on import or set low_memory=False.\n",
      "  interactivity=interactivity, compiler=compiler, result=result)\n"
     ]
    }
   ],
   "source": [
    "repo_dir = \"\"\"C:\\\\Users\\\\yjpar\\\\Documents\\\\GitHub\\\\RGTM\\\\Cleaned\\\\\"\"\"\n",
    "df1 = pd.read_csv(repo_dir + \"merged_manhattan_cleanup.csv\")"
   ]
  },
  {
   "cell_type": "code",
   "execution_count": 6,
   "metadata": {},
   "outputs": [],
   "source": [
    "df1[\"StreetAdd\"] = df1.StreetNum + \" \" + df1.StreetName.apply(lambda x : x.strip())"
   ]
  },
  {
   "cell_type": "code",
   "execution_count": 34,
   "metadata": {},
   "outputs": [
    {
     "name": "stderr",
     "output_type": "stream",
     "text": [
      "C:\\Users\\yjpar\\Anaconda3\\lib\\site-packages\\pandas\\io\\clipboards.py:127: FutureWarning: The signature of `Series.to_csv` was aligned to that of `DataFrame.to_csv`, and argument 'header' will change its default value from False to True: please pass an explicit value to suppress this warning.\n",
      "  obj.to_csv(buf, sep=sep, encoding='utf-8', **kwargs)\n"
     ]
    }
   ],
   "source": [
    "df1.groupby([\"StreetAdd\"])[\"SalePrice\"].count().to_clipboard()"
   ]
  },
  {
   "cell_type": "code",
   "execution_count": 11,
   "metadata": {},
   "outputs": [
    {
     "data": {
      "text/plain": [
       "11585"
      ]
     },
     "execution_count": 11,
     "metadata": {},
     "output_type": "execute_result"
    }
   ],
   "source": [
    "len(df1.StreetAdd.unique())"
   ]
  },
  {
   "cell_type": "code",
   "execution_count": 12,
   "metadata": {},
   "outputs": [],
   "source": [
    "final = pd.read_csv(repo_dir+\"MODEL_salesdate.csv\")"
   ]
  },
  {
   "cell_type": "code",
   "execution_count": 108,
   "metadata": {},
   "outputs": [
    {
     "name": "stderr",
     "output_type": "stream",
     "text": [
      "C:\\Users\\yjpar\\Anaconda3\\lib\\site-packages\\ipykernel_launcher.py:1: SettingWithCopyWarning: \n",
      "A value is trying to be set on a copy of a slice from a DataFrame.\n",
      "Try using .loc[row_indexer,col_indexer] = value instead\n",
      "\n",
      "See the caveats in the documentation: http://pandas.pydata.org/pandas-docs/stable/indexing.html#indexing-view-versus-copy\n",
      "  \"\"\"Entry point for launching an IPython kernel.\n",
      "C:\\Users\\yjpar\\Anaconda3\\lib\\site-packages\\pandas\\core\\generic.py:5096: SettingWithCopyWarning: \n",
      "A value is trying to be set on a copy of a slice from a DataFrame.\n",
      "Try using .loc[row_indexer,col_indexer] = value instead\n",
      "\n",
      "See the caveats in the documentation: http://pandas.pydata.org/pandas-docs/stable/indexing.html#indexing-view-versus-copy\n",
      "  self[name] = value\n"
     ]
    }
   ],
   "source": [
    "final[\"BOM_DATE\"] = pd.to_datetime(final.SaleDate)\n",
    "final.SaleDate = pd.to_datetime(final.SaleDate)"
   ]
  },
  {
   "cell_type": "code",
   "execution_count": 109,
   "metadata": {},
   "outputs": [
    {
     "name": "stderr",
     "output_type": "stream",
     "text": [
      "C:\\Users\\yjpar\\Anaconda3\\lib\\site-packages\\ipykernel_launcher.py:1: SettingWithCopyWarning: \n",
      "A value is trying to be set on a copy of a slice from a DataFrame.\n",
      "Try using .loc[row_indexer,col_indexer] = value instead\n",
      "\n",
      "See the caveats in the documentation: http://pandas.pydata.org/pandas-docs/stable/indexing.html#indexing-view-versus-copy\n",
      "  \"\"\"Entry point for launching an IPython kernel.\n"
     ]
    }
   ],
   "source": [
    "final[\"BOM_DATE\"] = final.BOM_DATE.apply(lambda x : pd.datetime(x.year, x.month, 1))"
   ]
  },
  {
   "cell_type": "code",
   "execution_count": 110,
   "metadata": {},
   "outputs": [],
   "source": [
    "medianSale = pd.read_csv(repo_dir + \"MedianSalesDate.csv\")\n",
    "medianSale[\"BOM_DATE\"] = pd.to_datetime(medianSale.BomDate)"
   ]
  },
  {
   "cell_type": "code",
   "execution_count": 111,
   "metadata": {},
   "outputs": [],
   "source": [
    "medianSale =medianSale.drop(\"BomDate\", axis = 1)"
   ]
  },
  {
   "cell_type": "code",
   "execution_count": 112,
   "metadata": {},
   "outputs": [],
   "source": [
    "final1 = final.merge(medianSale, on=\"BOM_DATE\", how=\"left\")"
   ]
  },
  {
   "cell_type": "code",
   "execution_count": 113,
   "metadata": {},
   "outputs": [],
   "source": [
    "recordedSale = pd.read_csv(repo_dir + \"RecordedSales.csv\")\n",
    "recordedSale[\"BOM_DATE\"] = pd.to_datetime(recordedSale.BomDate)\n",
    "recordedSale=recordedSale.drop(\"BomDate\", axis=1)"
   ]
  },
  {
   "cell_type": "code",
   "execution_count": 114,
   "metadata": {},
   "outputs": [],
   "source": [
    "final2 = final1.merge(recordedSale, on=\"BOM_DATE\", how=\"left\")"
   ]
  },
  {
   "cell_type": "code",
   "execution_count": 115,
   "metadata": {},
   "outputs": [],
   "source": [
    "final2.to_csv(repo_dir + \"MODEL_salesdate_w_medSale_saleVolume.csv\")"
   ]
  },
  {
   "cell_type": "code",
   "execution_count": 116,
   "metadata": {},
   "outputs": [],
   "source": [
    "final3 = final2.copy(deep=True)"
   ]
  },
  {
   "cell_type": "code",
   "execution_count": 117,
   "metadata": {},
   "outputs": [],
   "source": [
    "final3 = final3.drop([\"BOM_DATE\", \"SaleDate\"], axis=1)"
   ]
  },
  {
   "cell_type": "code",
   "execution_count": 118,
   "metadata": {},
   "outputs": [],
   "source": [
    "final3.to_csv(repo_dir + \"MODEL_medPrice_saleVol.csv\")"
   ]
  },
  {
   "cell_type": "code",
   "execution_count": 84,
   "metadata": {},
   "outputs": [],
   "source": [
    "alldf = pd.read_csv(repo_dir + \"FINAL_ALL.csv\")"
   ]
  },
  {
   "cell_type": "code",
   "execution_count": 85,
   "metadata": {},
   "outputs": [
    {
     "data": {
      "text/plain": [
       "Index(['Unnamed: 0', 'AptNum', 'Baths', 'Beds', 'Block', 'BuildingCategoryDes',\n",
       "       'BuildingCategoryNum', 'BuildingClassAtPresent',\n",
       "       'BuildingClassAtTimeOfSale', 'CommercialUnits', 'GeoCode',\n",
       "       'GrossSquareFeet', 'LandSquareFeet', 'Lot', 'Neighborhood',\n",
       "       'ResidentialUnits', 'SaleDate', 'SalePrice', 'StreetAddress',\n",
       "       'StreetName', 'StreetNum', 'TaxClassAtPresent', 'TaxClassAtTimeOfSale',\n",
       "       'TotalUnits', 'NumComplaints', 'Year', 'YearBuilt', 'ZipCode',\n",
       "       'halfMileAvgPrice6mo', 'NumComplaints3moPointOneMile',\n",
       "       'NumFelonies3moPointOneMile', 'min_dist_park', 'min_dist_subway'],\n",
       "      dtype='object')"
      ]
     },
     "execution_count": 85,
     "metadata": {},
     "output_type": "execute_result"
    }
   ],
   "source": [
    "alldf.columns"
   ]
  },
  {
   "cell_type": "code",
   "execution_count": 86,
   "metadata": {},
   "outputs": [],
   "source": [
    "alldf = alldf[[\"AptNum\",\"BuildingCategoryDes\",\"SalePrice\",\"SaleDate\",\"ZipCode\",\"YearBuilt\"]]"
   ]
  },
  {
   "cell_type": "code",
   "execution_count": 87,
   "metadata": {},
   "outputs": [],
   "source": [
    "alldf.SaleDate = pd.to_datetime(alldf.SaleDate)\n",
    "alldf[\"BuildingCategory\"] = alldf.BuildingCategoryDes.apply(lambda x : \n",
    "                                                            \"CONDOS\" if x[:3]==\"CON\" else (\"COOPS\" if x[:3]==\"COO\" else \"OTHERS\"))"
   ]
  },
  {
   "cell_type": "code",
   "execution_count": 88,
   "metadata": {},
   "outputs": [],
   "source": [
    "alldf.to_clipboard()"
   ]
  },
  {
   "cell_type": "code",
   "execution_count": 91,
   "metadata": {},
   "outputs": [],
   "source": [
    "final_all = pd.read_csv(repo_dir + \"FINAL_ALL_WITH_SALESDATE.csv\")\n",
    "final_all.SaleDate = pd.to_datetime(final_all.SaleDate)\n",
    "final_all.BuildingCategory = final_all.BuildingCategory.apply(lambda x : x.strip())"
   ]
  },
  {
   "cell_type": "code",
   "execution_count": 92,
   "metadata": {},
   "outputs": [],
   "source": [
    "alldf = alldf[[\"AptNum\",\"BuildingCategory\",\"SalePrice\",\"SaleDate\",\"ZipCode\",\"YearBuilt\"]]\n",
    "final4 = final_all.merge(alldf, on =[\"BuildingCategory\", \"SaleDate\", \"SalePrice\",\"ZipCode\", \"YearBuilt\"], how=\"left\")"
   ]
  },
  {
   "cell_type": "code",
   "execution_count": 105,
   "metadata": {},
   "outputs": [],
   "source": [
    "final5 = final4[~((final4[\"BuildingCategory\"].isin([\"CONDOS\",\"COOPS\"]))&(final4[\"AptNum\"]==\"House\")|(final4[\"YearBuilt\"]==0))]"
   ]
  },
  {
   "cell_type": "code",
   "execution_count": 55,
   "metadata": {},
   "outputs": [],
   "source": [
    "final5 = final5[~()]"
   ]
  },
  {
   "cell_type": "code",
   "execution_count": 96,
   "metadata": {},
   "outputs": [
    {
     "data": {
      "text/plain": [
       "(12147, 14)"
      ]
     },
     "execution_count": 96,
     "metadata": {},
     "output_type": "execute_result"
    }
   ],
   "source": [
    "final4.shape"
   ]
  },
  {
   "cell_type": "code",
   "execution_count": 106,
   "metadata": {},
   "outputs": [
    {
     "data": {
      "text/plain": [
       "(8601, 14)"
      ]
     },
     "execution_count": 106,
     "metadata": {},
     "output_type": "execute_result"
    }
   ],
   "source": [
    "final5.drop_duplicates().shape"
   ]
  },
  {
   "cell_type": "code",
   "execution_count": 107,
   "metadata": {},
   "outputs": [],
   "source": [
    "final = final5.drop_duplicates()"
   ]
  },
  {
   "cell_type": "code",
   "execution_count": null,
   "metadata": {},
   "outputs": [],
   "source": []
  }
 ],
 "metadata": {
  "kernelspec": {
   "display_name": "Python 3",
   "language": "python",
   "name": "python3"
  },
  "language_info": {
   "codemirror_mode": {
    "name": "ipython",
    "version": 3
   },
   "file_extension": ".py",
   "mimetype": "text/x-python",
   "name": "python",
   "nbconvert_exporter": "python",
   "pygments_lexer": "ipython3",
   "version": "3.7.3"
  }
 },
 "nbformat": 4,
 "nbformat_minor": 2
}
