{
 "cells": [
  {
   "cell_type": "code",
   "execution_count": 15,
   "metadata": {
    "collapsed": true
   },
   "outputs": [],
   "source": [
    "import pandas as pd\n",
    "from geopy.distance import lonlat, distance\n",
    "import numpy as np"
   ]
  },
  {
   "cell_type": "code",
   "execution_count": 54,
   "metadata": {},
   "outputs": [],
   "source": [
    "git_hub = \"C:\\\\Users\\\\Young Jin Park\\\\Documents\\\\GitHub\\\\RGTM\\\\\"\n",
    "#apt_geocode = pd.read_csv(\"C:\\\\Users\\\\Young Jin Park\\\\Documents\\\\GitHub\\\\RGTM\\\\Cleaned//merged_manhattan_geocode.csv\")"
   ]
  },
  {
   "cell_type": "code",
   "execution_count": 13,
   "metadata": {
    "collapsed": true
   },
   "outputs": [],
   "source": [
    "apt_geocode[\"GeoCode\"] = list(zip(apt_geocode.longitude, apt_geocode.latitude))"
   ]
  },
  {
   "cell_type": "code",
   "execution_count": 49,
   "metadata": {},
   "outputs": [],
   "source": [
    "def calculate_x_mile_vals(df, thr, value_col, fn, dist_df=None):\n",
    "    values=[]\n",
    "    for i in range(len(df)):\n",
    "        center = df.loc[i,\"GeoCode\"]\n",
    "        if not dist_df:\n",
    "            temp_df = df.copy(deep=True)\n",
    "        else:\n",
    "            temp_df = dist_df\n",
    "            \n",
    "        temp_df[\"Distance\"] = temp_df[temp_df[\"GeoCode\"]!=center][\"GeoCode\"].apply(\n",
    "            lambda x : distance(lonlat(*center),lonlat(*x)))\n",
    "        if fn == \"avg\":\n",
    "            values.append(temp_df[temp_df[\"Distance\"]<thr][value_col].mean())\n",
    "        elif fn == \"count\":\n",
    "            values.append(temp_df[temp_df[\"Distance\"]<thr][value_col].count())\n",
    "        elif fn == \"min_dist\":\n",
    "            values.append(temp_df[\"Distance\"].min())\n",
    "        else:\n",
    "            print(\"fn_not defined. Please pass in avg,count or min_dist\")\n",
    "    \n",
    "    df[\"Values\"] = values\n",
    "    \n",
    "    return df\n",
    "        \n",
    "        \n",
    "    \n",
    "    "
   ]
  },
  {
   "cell_type": "code",
   "execution_count": 50,
   "metadata": {},
   "outputs": [],
   "source": [
    "test_df = apt_geocode.loc[:30, :]"
   ]
  },
  {
   "cell_type": "code",
   "execution_count": 51,
   "metadata": {},
   "outputs": [
    {
     "name": "stderr",
     "output_type": "stream",
     "text": [
      "C:\\Users\\Young Jin Park\\Anaconda3\\lib\\site-packages\\ipykernel_launcher.py:21: SettingWithCopyWarning: \n",
      "A value is trying to be set on a copy of a slice from a DataFrame.\n",
      "Try using .loc[row_indexer,col_indexer] = value instead\n",
      "\n",
      "See the caveats in the documentation: http://pandas.pydata.org/pandas-docs/stable/indexing.html#indexing-view-versus-copy\n"
     ]
    }
   ],
   "source": [
    "test_rslt = calculate_x_mile_vals(test_df, thr=5, value_col=\"longitude\", fn=\"min_dist\")"
   ]
  },
  {
   "cell_type": "code",
   "execution_count": 55,
   "metadata": {},
   "outputs": [],
   "source": [
    "apt_df = pd.read_csv(git_hub + \"Cleaned\\\\merged_with_geocode.csv\")"
   ]
  },
  {
   "cell_type": "code",
   "execution_count": 67,
   "metadata": {},
   "outputs": [],
   "source": [
    "distinct_apt = pd.read_csv(git_hub + \"Cleaned\\\\merged_manhattan_geocodes.csv\")"
   ]
  },
  {
   "cell_type": "code",
   "execution_count": 59,
   "metadata": {},
   "outputs": [],
   "source": [
    "feature_df = pd.read_csv(git_hub + \"Cleaned\\\\nycopen_zillow_matched_data.csv\")"
   ]
  },
  {
   "cell_type": "code",
   "execution_count": 68,
   "metadata": {},
   "outputs": [],
   "source": [
    "distinct_apt[\"StreetAddress\"] = distinct_apt[\"Address\"].apply(lambda x : x.split(\",\")[0])"
   ]
  },
  {
   "cell_type": "code",
   "execution_count": 69,
   "metadata": {},
   "outputs": [],
   "source": [
    "feature_df[\"StreetAddress\"] = feature_df.StreetNum + \" \" + feature_df.StreetName"
   ]
  },
  {
   "cell_type": "code",
   "execution_count": 71,
   "metadata": {},
   "outputs": [],
   "source": [
    "merged = feature_df.merge(distinct_apt[[\"StreetAddress\", \"GeoCode\"]], how=\"left\", on=\"StreetAddress\")"
   ]
  },
  {
   "cell_type": "code",
   "execution_count": 74,
   "metadata": {},
   "outputs": [],
   "source": [
    "merged[[\"StreetAddress\",\"GeoCode\"]].to_clipboard()"
   ]
  },
  {
   "cell_type": "code",
   "execution_count": null,
   "metadata": {
    "collapsed": true
   },
   "outputs": [],
   "source": []
  }
 ],
 "metadata": {
  "kernelspec": {
   "display_name": "Python 3",
   "language": "python",
   "name": "python3"
  },
  "language_info": {
   "codemirror_mode": {
    "name": "ipython",
    "version": 3
   },
   "file_extension": ".py",
   "mimetype": "text/x-python",
   "name": "python",
   "nbconvert_exporter": "python",
   "pygments_lexer": "ipython3",
   "version": "3.6.3"
  }
 },
 "nbformat": 4,
 "nbformat_minor": 2
}
